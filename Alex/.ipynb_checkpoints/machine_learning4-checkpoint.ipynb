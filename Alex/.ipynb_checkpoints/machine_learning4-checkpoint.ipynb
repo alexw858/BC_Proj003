{
 "cells": [
  {
   "cell_type": "markdown",
   "metadata": {},
   "source": [
    "# Dummy variable machine learning and filtering down measurement types to top 6 using all neuron types"
   ]
  },
  {
   "cell_type": "code",
   "execution_count": 1,
   "metadata": {},
   "outputs": [],
   "source": [
    "import pandas as pd\n",
    "import numpy as np"
   ]
  },
  {
   "cell_type": "code",
   "execution_count": 2,
   "metadata": {
    "scrolled": true
   },
   "outputs": [
    {
     "data": {
      "text/html": [
       "<div>\n",
       "<style scoped>\n",
       "    .dataframe tbody tr th:only-of-type {\n",
       "        vertical-align: middle;\n",
       "    }\n",
       "\n",
       "    .dataframe tbody tr th {\n",
       "        vertical-align: top;\n",
       "    }\n",
       "\n",
       "    .dataframe thead th {\n",
       "        text-align: right;\n",
       "    }\n",
       "</style>\n",
       "<table border=\"1\" class=\"dataframe\">\n",
       "  <thead>\n",
       "    <tr style=\"text-align: right;\">\n",
       "      <th></th>\n",
       "      <th>Cell Type</th>\n",
       "      <th>Value</th>\n",
       "      <th>Measurement</th>\n",
       "    </tr>\n",
       "  </thead>\n",
       "  <tbody>\n",
       "    <tr>\n",
       "      <th>0</th>\n",
       "      <td>Dorsal root ganglion cell</td>\n",
       "      <td>-54.30</td>\n",
       "      <td>resting membrane potential</td>\n",
       "    </tr>\n",
       "    <tr>\n",
       "      <th>1</th>\n",
       "      <td>Dorsal root ganglion cell</td>\n",
       "      <td>-27.40</td>\n",
       "      <td>spike threshold</td>\n",
       "    </tr>\n",
       "    <tr>\n",
       "      <th>2</th>\n",
       "      <td>Dorsal root ganglion cell</td>\n",
       "      <td>101.30</td>\n",
       "      <td>spike amplitude</td>\n",
       "    </tr>\n",
       "    <tr>\n",
       "      <th>3</th>\n",
       "      <td>Dorsal root ganglion cell</td>\n",
       "      <td>2.00</td>\n",
       "      <td>spike width</td>\n",
       "    </tr>\n",
       "    <tr>\n",
       "      <th>4</th>\n",
       "      <td>Dorsal root ganglion cell</td>\n",
       "      <td>0.39</td>\n",
       "      <td>rheobase</td>\n",
       "    </tr>\n",
       "  </tbody>\n",
       "</table>\n",
       "</div>"
      ],
      "text/plain": [
       "                   Cell Type   Value                 Measurement\n",
       "0  Dorsal root ganglion cell  -54.30  resting membrane potential\n",
       "1  Dorsal root ganglion cell  -27.40             spike threshold\n",
       "2  Dorsal root ganglion cell  101.30             spike amplitude\n",
       "3  Dorsal root ganglion cell    2.00                 spike width\n",
       "4  Dorsal root ganglion cell    0.39                    rheobase"
      ]
     },
     "execution_count": 2,
     "metadata": {},
     "output_type": "execute_result"
    }
   ],
   "source": [
    "neuro = pd.read_csv(\"all_neuron_data.csv\")\n",
    "neuro.head()"
   ]
  },
  {
   "cell_type": "code",
   "execution_count": 3,
   "metadata": {
    "scrolled": true
   },
   "outputs": [
    {
     "data": {
      "text/html": [
       "<div>\n",
       "<style scoped>\n",
       "    .dataframe tbody tr th:only-of-type {\n",
       "        vertical-align: middle;\n",
       "    }\n",
       "\n",
       "    .dataframe tbody tr th {\n",
       "        vertical-align: top;\n",
       "    }\n",
       "\n",
       "    .dataframe thead th {\n",
       "        text-align: right;\n",
       "    }\n",
       "</style>\n",
       "<table border=\"1\" class=\"dataframe\">\n",
       "  <thead>\n",
       "    <tr style=\"text-align: right;\">\n",
       "      <th></th>\n",
       "      <th>Cell Type</th>\n",
       "      <th>Value</th>\n",
       "      <th>Measurement</th>\n",
       "    </tr>\n",
       "  </thead>\n",
       "  <tbody>\n",
       "    <tr>\n",
       "      <th>0</th>\n",
       "      <td>Dorsal root ganglion cell</td>\n",
       "      <td>-54.3</td>\n",
       "      <td>resting membrane potential</td>\n",
       "    </tr>\n",
       "    <tr>\n",
       "      <th>1</th>\n",
       "      <td>Dorsal root ganglion cell</td>\n",
       "      <td>-27.4</td>\n",
       "      <td>spike threshold</td>\n",
       "    </tr>\n",
       "    <tr>\n",
       "      <th>2</th>\n",
       "      <td>Dorsal root ganglion cell</td>\n",
       "      <td>101.3</td>\n",
       "      <td>spike amplitude</td>\n",
       "    </tr>\n",
       "    <tr>\n",
       "      <th>5</th>\n",
       "      <td>Dorsal root ganglion cell</td>\n",
       "      <td>192.0</td>\n",
       "      <td>input resistance</td>\n",
       "    </tr>\n",
       "    <tr>\n",
       "      <th>7</th>\n",
       "      <td>Spinal cord intermediate horn motor neuron sym...</td>\n",
       "      <td>-59.8</td>\n",
       "      <td>resting membrane potential</td>\n",
       "    </tr>\n",
       "  </tbody>\n",
       "</table>\n",
       "</div>"
      ],
      "text/plain": [
       "                                           Cell Type  Value  \\\n",
       "0                          Dorsal root ganglion cell  -54.3   \n",
       "1                          Dorsal root ganglion cell  -27.4   \n",
       "2                          Dorsal root ganglion cell  101.3   \n",
       "5                          Dorsal root ganglion cell  192.0   \n",
       "7  Spinal cord intermediate horn motor neuron sym...  -59.8   \n",
       "\n",
       "                  Measurement  \n",
       "0  resting membrane potential  \n",
       "1             spike threshold  \n",
       "2             spike amplitude  \n",
       "5            input resistance  \n",
       "7  resting membrane potential  "
      ]
     },
     "execution_count": 3,
     "metadata": {},
     "output_type": "execute_result"
    }
   ],
   "source": [
    "# neuro = neuro[[\"input resistance\", \"membrane time constant\", \"resting membrane potential\", \"spike amplitude\", \\\n",
    "#               \"spike half-width\", \"spike threshold\"]]\n",
    "# neuro\n",
    "neuro_filtered = neuro.loc[(neuro[\"Measurement\"] == \"input resistance\") |\n",
    "                          (neuro[\"Measurement\"] == \"resting membrane potential\") |\n",
    "                          (neuro[\"Measurement\"] == \"spike threshold\") |\n",
    "                          (neuro[\"Measurement\"] == \"spike half-width\") |\n",
    "                          (neuro[\"Measurement\"] == \"spike amplitude\") |\n",
    "                          (neuro[\"Measurement\"] == \"membrane time constant\")]\n",
    "\n",
    "neuro_filtered.head()\n"
   ]
  },
  {
   "cell_type": "code",
   "execution_count": 4,
   "metadata": {},
   "outputs": [],
   "source": [
    "# Saving minimum and maximum values for each measurement into variables\n",
    "\n",
    "# Min/ max input resistance values\n",
    "min_ir = neuro[neuro[\"Measurement\"] == \"input resistance\"][\"Value\"].min()\n",
    "max_ir = neuro[neuro[\"Measurement\"] == \"input resistance\"][\"Value\"].max()\n",
    "# Min/ max resting membrane potential values\n",
    "min_rmp = neuro[neuro[\"Measurement\"] == \"resting membrane potential\"][\"Value\"].min()\n",
    "max_rmp = neuro[neuro[\"Measurement\"] == \"resting membrane potential\"][\"Value\"].max()\n",
    "# Min/max spike threshold values\n",
    "min_st = neuro[neuro[\"Measurement\"] == \"spike threshold\"][\"Value\"].min()\n",
    "max_st = neuro[neuro[\"Measurement\"] == \"spike threshold\"][\"Value\"].max()\n",
    "# Min/max spike half-width values\n",
    "min_shw = neuro[neuro[\"Measurement\"] == \"spike half-width\"][\"Value\"].min()\n",
    "max_shw = neuro[neuro[\"Measurement\"] == \"spike half-width\"][\"Value\"].max()\n",
    "# Min/max spike amplitude values\n",
    "min_sa = neuro[neuro[\"Measurement\"] == \"spike amplitude\"][\"Value\"].min()\n",
    "max_sa = neuro[neuro[\"Measurement\"] == \"spike amplitude\"][\"Value\"].max()\n",
    "# Min/max membrane time constant values\n",
    "min_mtc = neuro[neuro[\"Measurement\"] == \"membrane time constant\"][\"Value\"].min()\n",
    "max_mtc = neuro[neuro[\"Measurement\"] == \"membrane time constant\"][\"Value\"].max()"
   ]
  },
  {
   "cell_type": "code",
   "execution_count": 11,
   "metadata": {},
   "outputs": [
    {
     "data": {
      "text/html": [
       "<div>\n",
       "<style scoped>\n",
       "    .dataframe tbody tr th:only-of-type {\n",
       "        vertical-align: middle;\n",
       "    }\n",
       "\n",
       "    .dataframe tbody tr th {\n",
       "        vertical-align: top;\n",
       "    }\n",
       "\n",
       "    .dataframe thead th {\n",
       "        text-align: right;\n",
       "    }\n",
       "</style>\n",
       "<table border=\"1\" class=\"dataframe\">\n",
       "  <thead>\n",
       "    <tr style=\"text-align: right;\">\n",
       "      <th></th>\n",
       "      <th>Cell Type</th>\n",
       "      <th>Value</th>\n",
       "      <th>Measurement_input resistance</th>\n",
       "      <th>Measurement_membrane time constant</th>\n",
       "      <th>Measurement_resting membrane potential</th>\n",
       "      <th>Measurement_spike amplitude</th>\n",
       "      <th>Measurement_spike half-width</th>\n",
       "      <th>Measurement_spike threshold</th>\n",
       "    </tr>\n",
       "  </thead>\n",
       "  <tbody>\n",
       "    <tr>\n",
       "      <th>0</th>\n",
       "      <td>Dorsal root ganglion cell</td>\n",
       "      <td>-54.3</td>\n",
       "      <td>0</td>\n",
       "      <td>0</td>\n",
       "      <td>1</td>\n",
       "      <td>0</td>\n",
       "      <td>0</td>\n",
       "      <td>0</td>\n",
       "    </tr>\n",
       "    <tr>\n",
       "      <th>1</th>\n",
       "      <td>Dorsal root ganglion cell</td>\n",
       "      <td>-27.4</td>\n",
       "      <td>0</td>\n",
       "      <td>0</td>\n",
       "      <td>0</td>\n",
       "      <td>0</td>\n",
       "      <td>0</td>\n",
       "      <td>1</td>\n",
       "    </tr>\n",
       "    <tr>\n",
       "      <th>2</th>\n",
       "      <td>Dorsal root ganglion cell</td>\n",
       "      <td>101.3</td>\n",
       "      <td>0</td>\n",
       "      <td>0</td>\n",
       "      <td>0</td>\n",
       "      <td>1</td>\n",
       "      <td>0</td>\n",
       "      <td>0</td>\n",
       "    </tr>\n",
       "    <tr>\n",
       "      <th>5</th>\n",
       "      <td>Dorsal root ganglion cell</td>\n",
       "      <td>192.0</td>\n",
       "      <td>1</td>\n",
       "      <td>0</td>\n",
       "      <td>0</td>\n",
       "      <td>0</td>\n",
       "      <td>0</td>\n",
       "      <td>0</td>\n",
       "    </tr>\n",
       "    <tr>\n",
       "      <th>7</th>\n",
       "      <td>Spinal cord intermediate horn motor neuron sym...</td>\n",
       "      <td>-59.8</td>\n",
       "      <td>0</td>\n",
       "      <td>0</td>\n",
       "      <td>1</td>\n",
       "      <td>0</td>\n",
       "      <td>0</td>\n",
       "      <td>0</td>\n",
       "    </tr>\n",
       "  </tbody>\n",
       "</table>\n",
       "</div>"
      ],
      "text/plain": [
       "                                           Cell Type  Value  \\\n",
       "0                          Dorsal root ganglion cell  -54.3   \n",
       "1                          Dorsal root ganglion cell  -27.4   \n",
       "2                          Dorsal root ganglion cell  101.3   \n",
       "5                          Dorsal root ganglion cell  192.0   \n",
       "7  Spinal cord intermediate horn motor neuron sym...  -59.8   \n",
       "\n",
       "   Measurement_input resistance  Measurement_membrane time constant  \\\n",
       "0                             0                                   0   \n",
       "1                             0                                   0   \n",
       "2                             0                                   0   \n",
       "5                             1                                   0   \n",
       "7                             0                                   0   \n",
       "\n",
       "   Measurement_resting membrane potential  Measurement_spike amplitude  \\\n",
       "0                                       1                            0   \n",
       "1                                       0                            0   \n",
       "2                                       0                            1   \n",
       "5                                       0                            0   \n",
       "7                                       1                            0   \n",
       "\n",
       "   Measurement_spike half-width  Measurement_spike threshold  \n",
       "0                             0                            0  \n",
       "1                             0                            1  \n",
       "2                             0                            0  \n",
       "5                             0                            0  \n",
       "7                             0                            0  "
      ]
     },
     "execution_count": 11,
     "metadata": {},
     "output_type": "execute_result"
    }
   ],
   "source": [
    "categorized_df = pd.get_dummies(neuro_filtered, columns=[\"Measurement\"])\n",
    "categorized_df.head()"
   ]
  },
  {
   "cell_type": "code",
   "execution_count": 19,
   "metadata": {},
   "outputs": [],
   "source": [
    "counts = categorized_df['Cell Type'].value_counts()\n",
    "greater_than_five = categorized_df[categorized_df['Cell Type'].isin(counts[counts >= 5].index)]\n",
    "greater_than_five[\"Cell Type\"].value_counts()\n",
    "greater_than_five[greater_than_five['Cell Type'] != \"Other\"][\"Cell Type\"].value_counts()\n",
    "\n",
    "# Remove \"Other\" cells from data\n",
    "greater_than_five = greater_than_five[greater_than_five['Cell Type'] != \"Other\"]"
   ]
  },
  {
   "cell_type": "code",
   "execution_count": 20,
   "metadata": {
    "scrolled": true
   },
   "outputs": [
    {
     "data": {
      "text/html": [
       "<div>\n",
       "<style scoped>\n",
       "    .dataframe tbody tr th:only-of-type {\n",
       "        vertical-align: middle;\n",
       "    }\n",
       "\n",
       "    .dataframe tbody tr th {\n",
       "        vertical-align: top;\n",
       "    }\n",
       "\n",
       "    .dataframe thead th {\n",
       "        text-align: right;\n",
       "    }\n",
       "</style>\n",
       "<table border=\"1\" class=\"dataframe\">\n",
       "  <thead>\n",
       "    <tr style=\"text-align: right;\">\n",
       "      <th></th>\n",
       "      <th>Cell Type</th>\n",
       "      <th>Value</th>\n",
       "      <th>Measurement_input resistance</th>\n",
       "      <th>Measurement_membrane time constant</th>\n",
       "      <th>Measurement_resting membrane potential</th>\n",
       "      <th>Measurement_spike amplitude</th>\n",
       "      <th>Measurement_spike half-width</th>\n",
       "      <th>Measurement_spike threshold</th>\n",
       "      <th>Structure</th>\n",
       "    </tr>\n",
       "  </thead>\n",
       "  <tbody>\n",
       "    <tr>\n",
       "      <th>0</th>\n",
       "      <td>Dorsal root ganglion cell</td>\n",
       "      <td>-54.30</td>\n",
       "      <td>0</td>\n",
       "      <td>0</td>\n",
       "      <td>1</td>\n",
       "      <td>0</td>\n",
       "      <td>0</td>\n",
       "      <td>0</td>\n",
       "      <td>other</td>\n",
       "    </tr>\n",
       "    <tr>\n",
       "      <th>1</th>\n",
       "      <td>Dorsal root ganglion cell</td>\n",
       "      <td>-27.40</td>\n",
       "      <td>0</td>\n",
       "      <td>0</td>\n",
       "      <td>0</td>\n",
       "      <td>0</td>\n",
       "      <td>0</td>\n",
       "      <td>1</td>\n",
       "      <td>other</td>\n",
       "    </tr>\n",
       "    <tr>\n",
       "      <th>2</th>\n",
       "      <td>Dorsal root ganglion cell</td>\n",
       "      <td>101.30</td>\n",
       "      <td>0</td>\n",
       "      <td>0</td>\n",
       "      <td>0</td>\n",
       "      <td>1</td>\n",
       "      <td>0</td>\n",
       "      <td>0</td>\n",
       "      <td>other</td>\n",
       "    </tr>\n",
       "    <tr>\n",
       "      <th>5</th>\n",
       "      <td>Dorsal root ganglion cell</td>\n",
       "      <td>192.00</td>\n",
       "      <td>1</td>\n",
       "      <td>0</td>\n",
       "      <td>0</td>\n",
       "      <td>0</td>\n",
       "      <td>0</td>\n",
       "      <td>0</td>\n",
       "      <td>other</td>\n",
       "    </tr>\n",
       "    <tr>\n",
       "      <th>7</th>\n",
       "      <td>Spinal cord intermediate horn motor neuron sym...</td>\n",
       "      <td>-59.80</td>\n",
       "      <td>0</td>\n",
       "      <td>0</td>\n",
       "      <td>1</td>\n",
       "      <td>0</td>\n",
       "      <td>0</td>\n",
       "      <td>0</td>\n",
       "      <td>other</td>\n",
       "    </tr>\n",
       "    <tr>\n",
       "      <th>8</th>\n",
       "      <td>Spinal cord intermediate horn motor neuron sym...</td>\n",
       "      <td>1.14</td>\n",
       "      <td>1</td>\n",
       "      <td>0</td>\n",
       "      <td>0</td>\n",
       "      <td>0</td>\n",
       "      <td>0</td>\n",
       "      <td>0</td>\n",
       "      <td>other</td>\n",
       "    </tr>\n",
       "    <tr>\n",
       "      <th>9</th>\n",
       "      <td>Spinal cord intermediate horn motor neuron sym...</td>\n",
       "      <td>92.40</td>\n",
       "      <td>0</td>\n",
       "      <td>1</td>\n",
       "      <td>0</td>\n",
       "      <td>0</td>\n",
       "      <td>0</td>\n",
       "      <td>0</td>\n",
       "      <td>other</td>\n",
       "    </tr>\n",
       "    <tr>\n",
       "      <th>11</th>\n",
       "      <td>Spinal cord intermediate horn motor neuron sym...</td>\n",
       "      <td>57.10</td>\n",
       "      <td>0</td>\n",
       "      <td>0</td>\n",
       "      <td>0</td>\n",
       "      <td>1</td>\n",
       "      <td>0</td>\n",
       "      <td>0</td>\n",
       "      <td>other</td>\n",
       "    </tr>\n",
       "    <tr>\n",
       "      <th>13</th>\n",
       "      <td>Spinal cord intermediate horn motor neuron sym...</td>\n",
       "      <td>-45.30</td>\n",
       "      <td>0</td>\n",
       "      <td>0</td>\n",
       "      <td>0</td>\n",
       "      <td>0</td>\n",
       "      <td>0</td>\n",
       "      <td>1</td>\n",
       "      <td>other</td>\n",
       "    </tr>\n",
       "    <tr>\n",
       "      <th>18</th>\n",
       "      <td>Hippocampus CA1 pyramidal cell</td>\n",
       "      <td>-51.50</td>\n",
       "      <td>0</td>\n",
       "      <td>0</td>\n",
       "      <td>0</td>\n",
       "      <td>0</td>\n",
       "      <td>0</td>\n",
       "      <td>1</td>\n",
       "      <td>Hippocampus</td>\n",
       "    </tr>\n",
       "  </tbody>\n",
       "</table>\n",
       "</div>"
      ],
      "text/plain": [
       "                                            Cell Type   Value  \\\n",
       "0                           Dorsal root ganglion cell  -54.30   \n",
       "1                           Dorsal root ganglion cell  -27.40   \n",
       "2                           Dorsal root ganglion cell  101.30   \n",
       "5                           Dorsal root ganglion cell  192.00   \n",
       "7   Spinal cord intermediate horn motor neuron sym...  -59.80   \n",
       "8   Spinal cord intermediate horn motor neuron sym...    1.14   \n",
       "9   Spinal cord intermediate horn motor neuron sym...   92.40   \n",
       "11  Spinal cord intermediate horn motor neuron sym...   57.10   \n",
       "13  Spinal cord intermediate horn motor neuron sym...  -45.30   \n",
       "18                     Hippocampus CA1 pyramidal cell  -51.50   \n",
       "\n",
       "    Measurement_input resistance  Measurement_membrane time constant  \\\n",
       "0                              0                                   0   \n",
       "1                              0                                   0   \n",
       "2                              0                                   0   \n",
       "5                              1                                   0   \n",
       "7                              0                                   0   \n",
       "8                              1                                   0   \n",
       "9                              0                                   1   \n",
       "11                             0                                   0   \n",
       "13                             0                                   0   \n",
       "18                             0                                   0   \n",
       "\n",
       "    Measurement_resting membrane potential  Measurement_spike amplitude  \\\n",
       "0                                        1                            0   \n",
       "1                                        0                            0   \n",
       "2                                        0                            1   \n",
       "5                                        0                            0   \n",
       "7                                        1                            0   \n",
       "8                                        0                            0   \n",
       "9                                        0                            0   \n",
       "11                                       0                            1   \n",
       "13                                       0                            0   \n",
       "18                                       0                            0   \n",
       "\n",
       "    Measurement_spike half-width  Measurement_spike threshold    Structure  \n",
       "0                              0                            0        other  \n",
       "1                              0                            1        other  \n",
       "2                              0                            0        other  \n",
       "5                              0                            0        other  \n",
       "7                              0                            0        other  \n",
       "8                              0                            0        other  \n",
       "9                              0                            0        other  \n",
       "11                             0                            0        other  \n",
       "13                             0                            1        other  \n",
       "18                             0                            1  Hippocampus  "
      ]
     },
     "execution_count": 20,
     "metadata": {},
     "output_type": "execute_result"
    }
   ],
   "source": [
    "# categorize and filter greater_than_5 b/c model sucks at predicting\n",
    "hippos = [\"CA1\", \"CA2\", \"CA3\", \"Subiculum\", \"Dentate\"]\n",
    "\n",
    "for i, row in greater_than_five.iterrows():\n",
    "    if any(hippo.lower() in row[\"Cell Type\"].lower() for hippo in hippos):\n",
    "#         print(hippo)\n",
    "        greater_than_five.loc[i, \"Structure\"] = \"Hippocampus\"\n",
    "#         row[\"Area\"] = \"Hippocampus\"\n",
    "    else:\n",
    "        greater_than_five.loc[i, \"Structure\"] = \"other\"\n",
    "#         row[\"Area\"] = \"other\"\n",
    "#     print(row[\"Cell Type\"])\n",
    "greater_than_five.head(10)"
   ]
  },
  {
   "cell_type": "markdown",
   "metadata": {},
   "source": [
    "# Begin machine learning"
   ]
  },
  {
   "cell_type": "code",
   "execution_count": 21,
   "metadata": {},
   "outputs": [],
   "source": [
    "hippo_df = greater_than_five.loc[greater_than_five[\"Structure\"] == \"Hippocampus\"]\n",
    "X=hippo_df.drop([\"Cell Type\", \"Structure\"], axis=1)\n",
    "y=hippo_df[\"Cell Type\"]"
   ]
  },
  {
   "cell_type": "code",
   "execution_count": 29,
   "metadata": {},
   "outputs": [
    {
     "data": {
      "text/plain": [
       "(1633, 7)"
      ]
     },
     "execution_count": 29,
     "metadata": {},
     "output_type": "execute_result"
    }
   ],
   "source": [
    "X.shape"
   ]
  },
  {
   "cell_type": "code",
   "execution_count": 23,
   "metadata": {},
   "outputs": [
    {
     "name": "stderr",
     "output_type": "stream",
     "text": [
      "C:\\Users\\Al\\Anaconda3\\envs\\PythonData\\lib\\site-packages\\h5py\\__init__.py:36: FutureWarning: Conversion of the second argument of issubdtype from `float` to `np.floating` is deprecated. In future, it will be treated as `np.float64 == np.dtype(float).type`.\n",
      "  from ._conv import register_converters as _register_converters\n",
      "Using TensorFlow backend.\n"
     ]
    }
   ],
   "source": [
    "from sklearn.model_selection import train_test_split\n",
    "from sklearn.preprocessing import LabelEncoder, StandardScaler\n",
    "from keras.utils import to_categorical\n",
    "\n",
    "X_train, X_test, y_train, y_test = train_test_split(\n",
    "    X, y, random_state=1, stratify=y)\n",
    "X_scaler = StandardScaler().fit(X_train)\n",
    "X_train_scaled = X_scaler.transform(X_train)\n",
    "X_test_scaled = X_scaler.transform(X_test)\n",
    "\n",
    "# Step 1: Label-encode data set\n",
    "label_encoder = LabelEncoder()\n",
    "label_encoder.fit(y_train)\n",
    "encoded_y_train = label_encoder.transform(y_train)\n",
    "encoded_y_test = label_encoder.transform(y_test)\n",
    "\n",
    "# Step 2: Convert encoded labels to one-hot-encoding\n",
    "y_train_categorical = to_categorical(encoded_y_train)\n",
    "y_test_categorical = to_categorical(encoded_y_test)"
   ]
  },
  {
   "cell_type": "code",
   "execution_count": 27,
   "metadata": {},
   "outputs": [
    {
     "data": {
      "text/plain": [
       "(409, 7)"
      ]
     },
     "execution_count": 27,
     "metadata": {},
     "output_type": "execute_result"
    }
   ],
   "source": [
    "np.array(X_test_scaled).shape"
   ]
  },
  {
   "cell_type": "code",
   "execution_count": null,
   "metadata": {},
   "outputs": [],
   "source": [
    "from keras.models import Sequential\n",
    "from keras.layers import Dense\n",
    "\n",
    "# Create model and add layers\n",
    "model = Sequential()\n",
    "model.add(Dense(units=100, activation='relu', input_dim=6))\n",
    "model.add(Dense(units=100, activation='relu'))\n",
    "model.add(Dense(units=19, activation='softmax'))"
   ]
  },
  {
   "cell_type": "code",
   "execution_count": null,
   "metadata": {},
   "outputs": [],
   "source": [
    "model.compile(optimizer='adam',\n",
    "              loss='categorical_crossentropy',\n",
    "              metrics=['accuracy'])\n",
    "model.fit(\n",
    "    X_train_scaled,\n",
    "    y_train_categorical,\n",
    "    epochs=60,\n",
    "    shuffle=True,\n",
    "    verbose=2\n",
    ")"
   ]
  },
  {
   "cell_type": "code",
   "execution_count": null,
   "metadata": {},
   "outputs": [],
   "source": [
    "model_loss, model_accuracy = model.evaluate(\n",
    "    X_test_scaled, y_test_categorical, verbose=2)\n",
    "print(\n",
    "    f\"Normal Neural Network - Loss: {model_loss}, Accuracy: {model_accuracy}\")"
   ]
  },
  {
   "cell_type": "code",
   "execution_count": null,
   "metadata": {},
   "outputs": [],
   "source": [
    "# Save the model\n",
    "model.save(\"machine_learning4.h5\")"
   ]
  },
  {
   "cell_type": "markdown",
   "metadata": {},
   "source": [
    "# Take in user input into saved model"
   ]
  },
  {
   "cell_type": "code",
   "execution_count": 7,
   "metadata": {},
   "outputs": [
    {
     "name": "stdout",
     "output_type": "stream",
     "text": [
      "input_resistance value (between -330.3 and 2250.0): 2200\n",
      "resting_membrane_potential value (between -95.3 and 88.7): 50\n",
      "spike_threshold value (between -75.0 and 763.0): 700\n",
      "spike_half-width value (between 0.026000000000000002 and 1081.0): 100\n",
      "spike_amplitude value (between -84.5 and 160.0): -30\n",
      "membrane_time_constant value (between -38.0 and 285.0): -30\n"
     ]
    },
    {
     "data": {
      "text/plain": [
       "'-30'"
      ]
     },
     "execution_count": 7,
     "metadata": {},
     "output_type": "execute_result"
    }
   ],
   "source": [
    "input_resistance = input(\"input_resistance value (between {} and {}): \".format(min_ir, max_ir))\n",
    "resting_membrane_potential = input(\"resting_membrane_potential value (between {} and {}): \".format(min_rmp, max_rmp))\n",
    "spike_threshold = input(\"spike_threshold value (between {} and {}): \".format(min_st, max_st))\n",
    "spike_halfwidth = input(\"spike_half-width value (between {} and {}): \".format(min_shw, max_shw))\n",
    "spike_amplitude = input(\"spike_amplitude value (between {} and {}): \".format(min_sa, max_sa))\n",
    "membrane_time_constant = input(\"membrane_time_constant value (between {} and {}): \".format(min_mtc, max_mtc))\n",
    "resting_membrane_potential\n",
    "spike_threshold\n",
    "spike_halfwidth\n",
    "spike_amplitude\n",
    "membrane_time_constant"
   ]
  },
  {
   "cell_type": "code",
   "execution_count": 12,
   "metadata": {},
   "outputs": [
    {
     "data": {
      "text/plain": [
       "['2200', '50', '700', '100', '-30', '-30']"
      ]
     },
     "execution_count": 12,
     "metadata": {},
     "output_type": "execute_result"
    }
   ],
   "source": [
    "# model takes in x_test_scaled, y_test_categorical data types\n",
    "data = []\n",
    "data.extend([input_resistance, resting_membrane_potential, spike_threshold, spike_halfwidth, spike_amplitude, \\\n",
    "            membrane_time_constant])\n",
    "data\n",
    "# np.array(data).shape"
   ]
  },
  {
   "cell_type": "markdown",
   "metadata": {},
   "source": [
    "# Format input data into a dummy variable df to match training data format"
   ]
  },
  {
   "cell_type": "code",
   "execution_count": 17,
   "metadata": {},
   "outputs": [
    {
     "data": {
      "text/html": [
       "<div>\n",
       "<style scoped>\n",
       "    .dataframe tbody tr th:only-of-type {\n",
       "        vertical-align: middle;\n",
       "    }\n",
       "\n",
       "    .dataframe tbody tr th {\n",
       "        vertical-align: top;\n",
       "    }\n",
       "\n",
       "    .dataframe thead th {\n",
       "        text-align: right;\n",
       "    }\n",
       "</style>\n",
       "<table border=\"1\" class=\"dataframe\">\n",
       "  <thead>\n",
       "    <tr style=\"text-align: right;\">\n",
       "      <th></th>\n",
       "      <th>Value</th>\n",
       "      <th>Measurement</th>\n",
       "    </tr>\n",
       "  </thead>\n",
       "  <tbody>\n",
       "    <tr>\n",
       "      <th>0</th>\n",
       "      <td>2200</td>\n",
       "      <td>input_resistance</td>\n",
       "    </tr>\n",
       "    <tr>\n",
       "      <th>1</th>\n",
       "      <td>50</td>\n",
       "      <td>resting_membrane_potential</td>\n",
       "    </tr>\n",
       "    <tr>\n",
       "      <th>2</th>\n",
       "      <td>700</td>\n",
       "      <td>spike_threshold</td>\n",
       "    </tr>\n",
       "    <tr>\n",
       "      <th>3</th>\n",
       "      <td>100</td>\n",
       "      <td>spike_halfwidth</td>\n",
       "    </tr>\n",
       "    <tr>\n",
       "      <th>4</th>\n",
       "      <td>-30</td>\n",
       "      <td>spike_amplitude</td>\n",
       "    </tr>\n",
       "    <tr>\n",
       "      <th>5</th>\n",
       "      <td>-30</td>\n",
       "      <td>membrane_time_constant</td>\n",
       "    </tr>\n",
       "  </tbody>\n",
       "</table>\n",
       "</div>"
      ],
      "text/plain": [
       "  Value                 Measurement\n",
       "0  2200            input_resistance\n",
       "1    50  resting_membrane_potential\n",
       "2   700             spike_threshold\n",
       "3   100             spike_halfwidth\n",
       "4   -30             spike_amplitude\n",
       "5   -30      membrane_time_constant"
      ]
     },
     "execution_count": 17,
     "metadata": {},
     "output_type": "execute_result"
    }
   ],
   "source": [
    "measurement_list = [\"input_resistance\", \"resting_membrane_potential\", \"spike_threshold\", \"spike_halfwidth\", \"spike_amplitude\", \\\n",
    "            \"membrane_time_constant\"]\n",
    "formatted_input = list(zip(data, measurement_list))\n",
    "formatted_input_df = pd.DataFrame(formatted_input, columns=[\"Value\", \"Measurement\"]) \n",
    "formatted_input_df"
   ]
  },
  {
   "cell_type": "code",
   "execution_count": 18,
   "metadata": {},
   "outputs": [
    {
     "data": {
      "text/html": [
       "<div>\n",
       "<style scoped>\n",
       "    .dataframe tbody tr th:only-of-type {\n",
       "        vertical-align: middle;\n",
       "    }\n",
       "\n",
       "    .dataframe tbody tr th {\n",
       "        vertical-align: top;\n",
       "    }\n",
       "\n",
       "    .dataframe thead th {\n",
       "        text-align: right;\n",
       "    }\n",
       "</style>\n",
       "<table border=\"1\" class=\"dataframe\">\n",
       "  <thead>\n",
       "    <tr style=\"text-align: right;\">\n",
       "      <th></th>\n",
       "      <th>Value</th>\n",
       "      <th>Measurement_input_resistance</th>\n",
       "      <th>Measurement_membrane_time_constant</th>\n",
       "      <th>Measurement_resting_membrane_potential</th>\n",
       "      <th>Measurement_spike_amplitude</th>\n",
       "      <th>Measurement_spike_halfwidth</th>\n",
       "      <th>Measurement_spike_threshold</th>\n",
       "    </tr>\n",
       "  </thead>\n",
       "  <tbody>\n",
       "    <tr>\n",
       "      <th>0</th>\n",
       "      <td>2200</td>\n",
       "      <td>1</td>\n",
       "      <td>0</td>\n",
       "      <td>0</td>\n",
       "      <td>0</td>\n",
       "      <td>0</td>\n",
       "      <td>0</td>\n",
       "    </tr>\n",
       "    <tr>\n",
       "      <th>1</th>\n",
       "      <td>50</td>\n",
       "      <td>0</td>\n",
       "      <td>0</td>\n",
       "      <td>1</td>\n",
       "      <td>0</td>\n",
       "      <td>0</td>\n",
       "      <td>0</td>\n",
       "    </tr>\n",
       "    <tr>\n",
       "      <th>2</th>\n",
       "      <td>700</td>\n",
       "      <td>0</td>\n",
       "      <td>0</td>\n",
       "      <td>0</td>\n",
       "      <td>0</td>\n",
       "      <td>0</td>\n",
       "      <td>1</td>\n",
       "    </tr>\n",
       "    <tr>\n",
       "      <th>3</th>\n",
       "      <td>100</td>\n",
       "      <td>0</td>\n",
       "      <td>0</td>\n",
       "      <td>0</td>\n",
       "      <td>0</td>\n",
       "      <td>1</td>\n",
       "      <td>0</td>\n",
       "    </tr>\n",
       "    <tr>\n",
       "      <th>4</th>\n",
       "      <td>-30</td>\n",
       "      <td>0</td>\n",
       "      <td>0</td>\n",
       "      <td>0</td>\n",
       "      <td>1</td>\n",
       "      <td>0</td>\n",
       "      <td>0</td>\n",
       "    </tr>\n",
       "    <tr>\n",
       "      <th>5</th>\n",
       "      <td>-30</td>\n",
       "      <td>0</td>\n",
       "      <td>1</td>\n",
       "      <td>0</td>\n",
       "      <td>0</td>\n",
       "      <td>0</td>\n",
       "      <td>0</td>\n",
       "    </tr>\n",
       "  </tbody>\n",
       "</table>\n",
       "</div>"
      ],
      "text/plain": [
       "  Value  Measurement_input_resistance  Measurement_membrane_time_constant  \\\n",
       "0  2200                             1                                   0   \n",
       "1    50                             0                                   0   \n",
       "2   700                             0                                   0   \n",
       "3   100                             0                                   0   \n",
       "4   -30                             0                                   0   \n",
       "5   -30                             0                                   1   \n",
       "\n",
       "   Measurement_resting_membrane_potential  Measurement_spike_amplitude  \\\n",
       "0                                       0                            0   \n",
       "1                                       1                            0   \n",
       "2                                       0                            0   \n",
       "3                                       0                            0   \n",
       "4                                       0                            1   \n",
       "5                                       0                            0   \n",
       "\n",
       "   Measurement_spike_halfwidth  Measurement_spike_threshold  \n",
       "0                            0                            0  \n",
       "1                            0                            0  \n",
       "2                            0                            1  \n",
       "3                            1                            0  \n",
       "4                            0                            0  \n",
       "5                            0                            0  "
      ]
     },
     "execution_count": 18,
     "metadata": {},
     "output_type": "execute_result"
    }
   ],
   "source": [
    "categorized_input_df = pd.get_dummies(formatted_input_df, columns=[\"Measurement\"])\n",
    "categorized_input_df"
   ]
  },
  {
   "cell_type": "code",
   "execution_count": 32,
   "metadata": {},
   "outputs": [
    {
     "data": {
      "text/plain": [
       "array([[ 2.12313837,  2.23606798, -0.4472136 , -0.4472136 , -0.4472136 ,\n",
       "        -0.4472136 , -0.4472136 ],\n",
       "       [-0.5593773 , -0.4472136 , -0.4472136 ,  2.23606798, -0.4472136 ,\n",
       "        -0.4472136 , -0.4472136 ],\n",
       "       [ 0.25161581, -0.4472136 , -0.4472136 , -0.4472136 , -0.4472136 ,\n",
       "        -0.4472136 ,  2.23606798],\n",
       "       [-0.49699321, -0.4472136 , -0.4472136 , -0.4472136 , -0.4472136 ,\n",
       "         2.23606798, -0.4472136 ],\n",
       "       [-0.65919183, -0.4472136 , -0.4472136 , -0.4472136 ,  2.23606798,\n",
       "        -0.4472136 , -0.4472136 ],\n",
       "       [-0.65919183, -0.4472136 ,  2.23606798, -0.4472136 , -0.4472136 ,\n",
       "        -0.4472136 , -0.4472136 ]])"
      ]
     },
     "execution_count": 32,
     "metadata": {},
     "output_type": "execute_result"
    }
   ],
   "source": [
    "input_scaler = StandardScaler().fit(categorized_input_df)\n",
    "input_scaled = input_scaler.transform(categorized_input_df)\n",
    "input_scaled"
   ]
  },
  {
   "cell_type": "code",
   "execution_count": 33,
   "metadata": {},
   "outputs": [
    {
     "data": {
      "text/plain": [
       "(6, 7)"
      ]
     },
     "execution_count": 33,
     "metadata": {},
     "output_type": "execute_result"
    }
   ],
   "source": [
    "np.array(input_scaled).shape"
   ]
  },
  {
   "cell_type": "code",
   "execution_count": null,
   "metadata": {},
   "outputs": [],
   "source": [
    "np.array(data).reshape(6,)"
   ]
  },
  {
   "cell_type": "code",
   "execution_count": 34,
   "metadata": {},
   "outputs": [],
   "source": [
    "from keras.models import load_model\n",
    "neuro_model = load_model(\"machine_learning4.h5\")"
   ]
  },
  {
   "cell_type": "code",
   "execution_count": 35,
   "metadata": {
    "scrolled": true
   },
   "outputs": [
    {
     "data": {
      "text/plain": [
       "array([[1.31051810e-02, 1.39935777e-01, 8.32704529e-02, 4.38429788e-02,\n",
       "        2.99768038e-02, 1.01049446e-01, 9.77032760e-05, 2.39625573e-02,\n",
       "        5.56015819e-02, 2.36228421e-01, 2.78919964e-04, 2.82385328e-04,\n",
       "        4.85998616e-02, 5.14394604e-04, 2.54105981e-02, 1.81414932e-02,\n",
       "        1.16347477e-01, 6.82547688e-03, 5.65285869e-02],\n",
       "       [6.86983345e-03, 1.18030459e-01, 1.97575875e-02, 1.35275153e-02,\n",
       "        2.98026055e-02, 1.85450949e-02, 3.04186344e-03, 5.35214553e-03,\n",
       "        2.80936025e-02, 5.53721845e-01, 1.30286301e-03, 4.16880986e-03,\n",
       "        1.17547866e-02, 2.48245383e-03, 6.29363768e-03, 1.03995120e-02,\n",
       "        5.97769283e-02, 2.82349228e-03, 1.04255058e-01],\n",
       "       [1.02361720e-02, 1.02179401e-01, 2.18372960e-02, 1.02593238e-02,\n",
       "        3.46559472e-02, 1.88357141e-02, 5.45118842e-03, 7.10972073e-03,\n",
       "        1.97138004e-02, 3.02818924e-01, 1.53715315e-03, 1.33453612e-03,\n",
       "        1.18038245e-02, 7.32732797e-03, 5.72213437e-03, 1.61630530e-02,\n",
       "        4.57321294e-02, 9.21278540e-03, 3.68069679e-01],\n",
       "       [1.55859496e-02, 1.33279696e-01, 2.39092056e-02, 2.92935148e-02,\n",
       "        7.93023384e-04, 5.61640002e-02, 5.72995143e-03, 1.50194298e-02,\n",
       "        3.37029062e-02, 4.20728981e-01, 8.20833817e-03, 5.70892449e-03,\n",
       "        1.90777928e-02, 1.27226347e-02, 5.03477501e-03, 1.45812181e-03,\n",
       "        7.83549175e-02, 5.54700056e-03, 1.29680887e-01],\n",
       "       [6.07610773e-03, 1.53153121e-01, 1.31515306e-04, 2.70800050e-02,\n",
       "        1.85740098e-01, 4.00520191e-02, 1.15410928e-02, 1.67659316e-02,\n",
       "        4.95028682e-03, 3.58365513e-02, 4.60861176e-01, 4.40342410e-04,\n",
       "        9.33310541e-04, 1.06508916e-04, 1.30618047e-02, 2.70102537e-05,\n",
       "        2.95567233e-02, 8.74707568e-03, 4.93922364e-03],\n",
       "       [5.76939015e-03, 2.11624712e-01, 5.35413576e-03, 2.05490030e-02,\n",
       "        1.42111378e-02, 4.04862277e-02, 6.09591044e-03, 4.69974708e-03,\n",
       "        1.00930184e-02, 3.81903529e-01, 1.53974429e-01, 1.82704732e-03,\n",
       "        2.35854439e-03, 1.05219558e-02, 4.93428204e-03, 6.40967488e-03,\n",
       "        5.00409082e-02, 3.26637249e-03, 6.58799410e-02]], dtype=float32)"
      ]
     },
     "execution_count": 35,
     "metadata": {},
     "output_type": "execute_result"
    }
   ],
   "source": [
    "# Change the model being used\n",
    "# Maybe transpose data later\n",
    "neuro_model.predict(np.asarray(input_scaled))"
   ]
  },
  {
   "cell_type": "code",
   "execution_count": null,
   "metadata": {},
   "outputs": [],
   "source": []
  }
 ],
 "metadata": {
  "kernelspec": {
   "display_name": "Python 3",
   "language": "python",
   "name": "python3"
  },
  "language_info": {
   "codemirror_mode": {
    "name": "ipython",
    "version": 3
   },
   "file_extension": ".py",
   "mimetype": "text/x-python",
   "name": "python",
   "nbconvert_exporter": "python",
   "pygments_lexer": "ipython3",
   "version": "3.6.4"
  }
 },
 "nbformat": 4,
 "nbformat_minor": 2
}
